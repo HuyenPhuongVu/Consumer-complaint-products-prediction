{
 "cells": [
  {
   "cell_type": "code",
   "execution_count": 1,
   "metadata": {},
   "outputs": [],
   "source": [
    "import os\n",
    "import pandas as pd\n",
    "import numpy as np\n",
    "from sklearn.feature_extraction.text import TfidfVectorizer\n",
    "from sklearn.model_selection import train_test_split\n",
    "from sklearn.metrics import confusion_matrix\n",
    "from sklearn import metrics\n",
    "from sklearn.model_selection import cross_validate"
   ]
  },
  {
   "cell_type": "markdown",
   "metadata": {},
   "source": [
    "# Read data and choose to keep top 5 most complaint products"
   ]
  },
  {
   "cell_type": "code",
   "execution_count": 2,
   "metadata": {},
   "outputs": [
    {
     "name": "stderr",
     "output_type": "stream",
     "text": [
      "C:\\Users\\Huyen Vu\\anaconda3\\lib\\site-packages\\IPython\\core\\interactiveshell.py:3063: DtypeWarning: Columns (9,16) have mixed types.Specify dtype option on import or set low_memory=False.\n",
      "  interactivity=interactivity, compiler=compiler, result=result)\n"
     ]
    }
   ],
   "source": [
    "csv_file = 'D:/Jobs/If insurance/complaints.csv'\n",
    "df = pd.read_csv(csv_file)\n",
    "\n",
    "df = df[['Product', 'Consumer complaint narrative']]\n",
    "df = df[pd.notnull(df['Consumer complaint narrative'])]\n",
    "\n",
    "top_5 = df.groupby('Product').count().sort_values(by=['Consumer complaint narrative'], ascending=False).head(5)\n",
    "#sample = top_5.values[4][0]\n",
    "top_5 = list(top_5.index)\n",
    "\n",
    "top_5_products = []\n",
    "sample = 10000\n",
    "for product in top_5:\n",
    "    if(len(top_5_products) == 0):\n",
    "        product = np.where((df['Product'] == product).values)[0]\n",
    "        top_5_products = np.random.choice(product, sample, replace=False)\n",
    "    else:\n",
    "        product = np.where((df['Product'] == product).values)[0]\n",
    "        top_5_products = np.concatenate((top_5_products, np.random.choice(product, sample, replace=False)))\n",
    "df = df.iloc[top_5_products]\n",
    "df['class'] = df['Product'].factorize()[0]"
   ]
  },
  {
   "cell_type": "code",
   "execution_count": 3,
   "metadata": {},
   "outputs": [
    {
     "data": {
      "text/html": [
       "<div>\n",
       "<style scoped>\n",
       "    .dataframe tbody tr th:only-of-type {\n",
       "        vertical-align: middle;\n",
       "    }\n",
       "\n",
       "    .dataframe tbody tr th {\n",
       "        vertical-align: top;\n",
       "    }\n",
       "\n",
       "    .dataframe thead th {\n",
       "        text-align: right;\n",
       "    }\n",
       "</style>\n",
       "<table border=\"1\" class=\"dataframe\">\n",
       "  <thead>\n",
       "    <tr style=\"text-align: right;\">\n",
       "      <th></th>\n",
       "      <th>Product</th>\n",
       "      <th>Consumer complaint narrative</th>\n",
       "      <th>class</th>\n",
       "    </tr>\n",
       "  </thead>\n",
       "  <tbody>\n",
       "    <tr>\n",
       "      <th>1428259</th>\n",
       "      <td>Credit reporting, credit repair services, or o...</td>\n",
       "      <td>Experian continually has my credit report cont...</td>\n",
       "      <td>0</td>\n",
       "    </tr>\n",
       "    <tr>\n",
       "      <th>234678</th>\n",
       "      <td>Credit reporting, credit repair services, or o...</td>\n",
       "      <td>I sent a letter on XX/XX/XXXX to remove errone...</td>\n",
       "      <td>0</td>\n",
       "    </tr>\n",
       "    <tr>\n",
       "      <th>2154129</th>\n",
       "      <td>Credit reporting, credit repair services, or o...</td>\n",
       "      <td>I received a hard inquiry XX/XX/XXXX When I ha...</td>\n",
       "      <td>0</td>\n",
       "    </tr>\n",
       "    <tr>\n",
       "      <th>2379882</th>\n",
       "      <td>Credit reporting, credit repair services, or o...</td>\n",
       "      <td>I am not an attorney nor a third party I am fi...</td>\n",
       "      <td>0</td>\n",
       "    </tr>\n",
       "    <tr>\n",
       "      <th>1943252</th>\n",
       "      <td>Credit reporting, credit repair services, or o...</td>\n",
       "      <td>I am writing to delete the following informati...</td>\n",
       "      <td>0</td>\n",
       "    </tr>\n",
       "    <tr>\n",
       "      <th>...</th>\n",
       "      <td>...</td>\n",
       "      <td>...</td>\n",
       "      <td>...</td>\n",
       "    </tr>\n",
       "    <tr>\n",
       "      <th>1100151</th>\n",
       "      <td>Checking or savings account</td>\n",
       "      <td>I, XXXX XXXX XXXX, do not agree with the resol...</td>\n",
       "      <td>4</td>\n",
       "    </tr>\n",
       "    <tr>\n",
       "      <th>544774</th>\n",
       "      <td>Checking or savings account</td>\n",
       "      <td>I opened a business checking account online, a...</td>\n",
       "      <td>4</td>\n",
       "    </tr>\n",
       "    <tr>\n",
       "      <th>2129437</th>\n",
       "      <td>Checking or savings account</td>\n",
       "      <td>On XX/XX/2018 I called my bank Capital One 360...</td>\n",
       "      <td>4</td>\n",
       "    </tr>\n",
       "    <tr>\n",
       "      <th>300991</th>\n",
       "      <td>Checking or savings account</td>\n",
       "      <td>To whom it may concern, I have been banking wi...</td>\n",
       "      <td>4</td>\n",
       "    </tr>\n",
       "    <tr>\n",
       "      <th>1974343</th>\n",
       "      <td>Checking or savings account</td>\n",
       "      <td>I filed a dispute in XX/XX/2018 for {$30.00}. ...</td>\n",
       "      <td>4</td>\n",
       "    </tr>\n",
       "  </tbody>\n",
       "</table>\n",
       "<p>50000 rows × 3 columns</p>\n",
       "</div>"
      ],
      "text/plain": [
       "                                                   Product  \\\n",
       "1428259  Credit reporting, credit repair services, or o...   \n",
       "234678   Credit reporting, credit repair services, or o...   \n",
       "2154129  Credit reporting, credit repair services, or o...   \n",
       "2379882  Credit reporting, credit repair services, or o...   \n",
       "1943252  Credit reporting, credit repair services, or o...   \n",
       "...                                                    ...   \n",
       "1100151                        Checking or savings account   \n",
       "544774                         Checking or savings account   \n",
       "2129437                        Checking or savings account   \n",
       "300991                         Checking or savings account   \n",
       "1974343                        Checking or savings account   \n",
       "\n",
       "                              Consumer complaint narrative  class  \n",
       "1428259  Experian continually has my credit report cont...      0  \n",
       "234678   I sent a letter on XX/XX/XXXX to remove errone...      0  \n",
       "2154129  I received a hard inquiry XX/XX/XXXX When I ha...      0  \n",
       "2379882  I am not an attorney nor a third party I am fi...      0  \n",
       "1943252  I am writing to delete the following informati...      0  \n",
       "...                                                    ...    ...  \n",
       "1100151  I, XXXX XXXX XXXX, do not agree with the resol...      4  \n",
       "544774   I opened a business checking account online, a...      4  \n",
       "2129437  On XX/XX/2018 I called my bank Capital One 360...      4  \n",
       "300991   To whom it may concern, I have been banking wi...      4  \n",
       "1974343  I filed a dispute in XX/XX/2018 for {$30.00}. ...      4  \n",
       "\n",
       "[50000 rows x 3 columns]"
      ]
     },
     "execution_count": 3,
     "metadata": {},
     "output_type": "execute_result"
    }
   ],
   "source": [
    "df"
   ]
  },
  {
   "cell_type": "markdown",
   "metadata": {},
   "source": [
    "# Convert a collection of raw documents to a matrix of TF-IDF features"
   ]
  },
  {
   "cell_type": "code",
   "execution_count": 4,
   "metadata": {},
   "outputs": [],
   "source": [
    "tfidf = TfidfVectorizer()\n",
    "\n",
    "# We transform each complaint into a vector\n",
    "x = tfidf.fit_transform(df['Consumer complaint narrative']).toarray()\n",
    "\n",
    "y = df['class']"
   ]
  },
  {
   "cell_type": "code",
   "execution_count": 5,
   "metadata": {},
   "outputs": [
    {
     "name": "stdout",
     "output_type": "stream",
     "text": [
      "accuracy is: 0.7513\n"
     ]
    }
   ],
   "source": [
    "from sklearn.tree import DecisionTreeClassifier\n",
    "model = DecisionTreeClassifier()\n",
    "accuracy = np.mean(cross_validate(model, x, y, cv=5)['test_score'])\n",
    "print('accuracy is: ' + str(accuracy))"
   ]
  },
  {
   "cell_type": "code",
   "execution_count": 6,
   "metadata": {},
   "outputs": [
    {
     "name": "stdout",
     "output_type": "stream",
     "text": [
      "accuracy is: 0.8739399999999999\n"
     ]
    }
   ],
   "source": [
    "from sklearn.svm import LinearSVC\n",
    "model = LinearSVC()\n",
    "accuracy = np.mean(cross_validate(model, x, y, cv=5)['test_score'])\n",
    "print('accuracy is: ' + str(accuracy))"
   ]
  },
  {
   "cell_type": "code",
   "execution_count": 7,
   "metadata": {},
   "outputs": [
    {
     "name": "stdout",
     "output_type": "stream",
     "text": [
      "accuracy is: 0.8392200000000001\n"
     ]
    }
   ],
   "source": [
    "from sklearn.naive_bayes import MultinomialNB\n",
    "model = MultinomialNB()\n",
    "accuracy = np.mean(cross_validate(model, x, y, cv=5)['test_score'])\n",
    "print('accuracy is: ' + str(accuracy))"
   ]
  },
  {
   "cell_type": "code",
   "execution_count": 8,
   "metadata": {},
   "outputs": [
    {
     "name": "stdout",
     "output_type": "stream",
     "text": [
      "accuracy is: 0.87414\n"
     ]
    }
   ],
   "source": [
    "from sklearn.linear_model import SGDClassifier\n",
    "model = SGDClassifier()\n",
    "accuracy = np.mean(cross_validate(model, x, y, cv=5)['test_score'])\n",
    "print('accuracy is: ' + str(accuracy))"
   ]
  },
  {
   "cell_type": "code",
   "execution_count": null,
   "metadata": {},
   "outputs": [],
   "source": [
    "from sklearn.neural_network import MLPClassifier\n",
    "model = MLPClassifier(alpha=1, max_iter=1000)\n",
    "accuracy = np.mean(cross_validate(model, x, y, cv=5)['test_score'])\n",
    "print('accuracy is: ' + str(accuracy))"
   ]
  },
  {
   "cell_type": "code",
   "execution_count": 10,
   "metadata": {},
   "outputs": [
    {
     "name": "stdout",
     "output_type": "stream",
     "text": [
      "                                                                              precision    recall  f1-score   support\n",
      "\n",
      "Credit reporting, credit repair services, or other personal consumer reports       0.85      0.84      0.85      2086\n",
      "                                                             Debt collection       0.87      0.85      0.86      2001\n",
      "                                                                    Mortgage       0.93      0.97      0.95      1951\n",
      "                                                 Credit card or prepaid card       0.87      0.82      0.84      1983\n",
      "                                                 Checking or savings account       0.87      0.93      0.90      1979\n",
      "\n",
      "                                                                    accuracy                           0.88     10000\n",
      "                                                                   macro avg       0.88      0.88      0.88     10000\n",
      "                                                                weighted avg       0.88      0.88      0.88     10000\n",
      "\n"
     ]
    }
   ],
   "source": [
    "X_train, X_test, y_train, y_test,indices_train,indices_test = train_test_split(x, y, df.index, test_size=0.2, random_state=1)\n",
    "model = SGDClassifier()\n",
    "model.fit(X_train, y_train)\n",
    "y_pred = model.predict(X_test)\n",
    "print(metrics.classification_report(y_test, y_pred, target_names= df['Product'].unique()))"
   ]
  }
 ],
 "metadata": {
  "kernelspec": {
   "display_name": "Python 3",
   "language": "python",
   "name": "python3"
  },
  "language_info": {
   "codemirror_mode": {
    "name": "ipython",
    "version": 3
   },
   "file_extension": ".py",
   "mimetype": "text/x-python",
   "name": "python",
   "nbconvert_exporter": "python",
   "pygments_lexer": "ipython3",
   "version": "3.7.6"
  }
 },
 "nbformat": 4,
 "nbformat_minor": 4
}
